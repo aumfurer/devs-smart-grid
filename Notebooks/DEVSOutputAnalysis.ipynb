{
 "cells": [
  {
   "cell_type": "code",
   "execution_count": null,
   "metadata": {},
   "outputs": [],
   "source": [
    "import pandas as pd\n",
    "import numpy as np\n",
    "import datetime\n",
    "from matplotlib import pyplot as plt\n",
    "import matplotlib.ticker as ticker"
   ]
  },
  {
   "cell_type": "code",
   "execution_count": null,
   "metadata": {},
   "outputs": [],
   "source": [
    "def DEVSTimeToMinutes(aDEVSTime):\n",
    "    \"\"\"\n",
    "    Converts a DEVS timestamp, of the form hours:minutes:seconds:miliseconds:sth\n",
    "    to a python datetime object, starting with year 1990 on.\n",
    "    \"\"\"\n",
    "    START_YEAR = 1990\n",
    "    \n",
    "    splittedDate = aDEVSTime.split(':')\n",
    "    # Normal assert\n",
    "    hours = int(splittedDate[0])\n",
    "    minutes = int(splittedDate[1])\n",
    "    seconds = int(splittedDate[2])\n",
    "    mseconds = int(splittedDate[3])\n",
    "    \n",
    "    return minutes + hours * 60\n",
    "\n",
    "import math\n",
    "\n",
    "\"\"\"\n",
    "    Custom date formatter for x axis in DEVS time format\n",
    "\"\"\"\n",
    "def format_date(x, pos=None):\n",
    "    hours = math.floor(x / 60)\n",
    "    minutes = x - hours*60\n",
    "    \n",
    "    return '%02d:%02d:00:00' % (hours,minutes)\n",
    "\n",
    "# Helper lambdas\n",
    "daysToHours = lambda d: d*24*60"
   ]
  },
  {
   "cell_type": "markdown",
   "metadata": {},
   "source": [
    "## Assumptions\n",
    "\n",
    "It is assumed the the output being parsed was generated with the following top model: **models/controllerAndSolar.ma**. This contains three output ports:\n",
    "- **grid_out**: Power demanded on sold to the grid. \n",
    "- **controlBatteryState**: Battery state changes.\n",
    "- **controlBatteryDemand**: Power demanded from the controller to the battery."
   ]
  },
  {
   "cell_type": "code",
   "execution_count": null,
   "metadata": {},
   "outputs": [],
   "source": [
    "outputFile = open('../simulation/src/out/realData', 'r')\n",
    "\n",
    "parsedOutput = []\n",
    "for line in outputFile:\n",
    "    # Trim newline character from read line\n",
    "    line = line[:-1]\n",
    "    # Split by spaces\n",
    "    splittedLine = line.split(' ')\n",
    "    # Drop excedent emoty read parts\n",
    "    splittedLine = [readPart for readPart in splittedLine if readPart != '']\n",
    "    parsedOutput.append(splittedLine)"
   ]
  },
  {
   "cell_type": "code",
   "execution_count": null,
   "metadata": {},
   "outputs": [],
   "source": [
    "parsedData = pd.DataFrame(data=parsedOutput, columns=['time', 'port', 'value'])\n",
    "parsedData.loc[:, 'value'] = parsedData.value.astype(float)\n",
    "parsedData.loc[:, 'time'] = parsedData.time.map(DEVSTimeToMinutes)"
   ]
  },
  {
   "cell_type": "code",
   "execution_count": null,
   "metadata": {},
   "outputs": [],
   "source": [
    "parsedData.columns"
   ]
  },
  {
   "cell_type": "code",
   "execution_count": null,
   "metadata": {},
   "outputs": [],
   "source": [
    "parsedData.port.unique()"
   ]
  },
  {
   "cell_type": "code",
   "execution_count": null,
   "metadata": {},
   "outputs": [],
   "source": [
    "gridOutData = parsedData[parsedData.port == 'grid_out']\n",
    "gridSellData = parsedData[parsedData.port == 'grid_sell']\n",
    "generatedSolarPower = parsedData[parsedData.port == 'solarpowerbeinggenerated']\n",
    "generatedWindPower = parsedData[parsedData.port == 'windpowerbeinggenerated']\n",
    "batteryDemand = parsedData[parsedData.port == 'controlbatterydemand']\n",
    "batteryState = parsedData[parsedData.port == 'controlbatterystate']"
   ]
  },
  {
   "cell_type": "markdown",
   "metadata": {},
   "source": [
    "### Plotting update in battery charge"
   ]
  },
  {
   "cell_type": "code",
   "execution_count": null,
   "metadata": {},
   "outputs": [],
   "source": [
    "columnMappers = {\n",
    "    'time': DEVSTimeToMinutes,\n",
    "    'charge': float\n",
    "}\n",
    "chargeChanges = pd.read_csv('/tmp/batteryChargeChanges', sep=';', usecols=[1,2], names=['time', 'charge'], converters=columnMappers)"
   ]
  },
  {
   "cell_type": "code",
   "execution_count": null,
   "metadata": {},
   "outputs": [],
   "source": [
    "SIMULATION_DAYS = 7\n",
    "fig, ax = plt.subplots(nrows=2, ncols=1, figsize = (15,10))\n",
    "\n",
    "ax[0].plot(chargeChanges.time, chargeChanges.charge, color='r', label='Carga')\n",
    "ax[0].plot(generatedSolarPower.time, generatedSolarPower.value, color='y', label='Potencia generada por panel solar')\n",
    "\n",
    "ax[0].set_xlim(left=0)\n",
    "\n",
    "ax[0].set_xlabel('Tiempo [DEVS time]')\n",
    "ax[0].set_ylabel('Potencia generada / Carga [W / Wh]')\n",
    "\n",
    "ax[0].legend()\n",
    "\n",
    "for day in range(SIMULATION_DAYS-1):\n",
    "    ax[0].axvline(x=24*60*(day+1), color='black', linewidth=1)\n",
    "\n",
    "ax[1].plot(gridOutData.time, gridOutData.value, label='Potencia pedida a la red')\n",
    "\n",
    "ax[1].set_xlim(left=0)\n",
    "ax[1].xaxis.set_major_formatter(ticker.FuncFormatter(format_date))\n",
    "ax[1].set_xticks(np.arange(daysToHours(1),daysToHours(SIMULATION_DAYS), daysToHours(1)))\n",
    "\n",
    "ax[1].legend()\n",
    "\n",
    "fig.autofmt_xdate()\n",
    "\n",
    "plt.tight_layout()\n",
    "plt.show()"
   ]
  },
  {
   "cell_type": "markdown",
   "metadata": {},
   "source": [
    "### Battery state changes according to charge"
   ]
  },
  {
   "cell_type": "code",
   "execution_count": null,
   "metadata": {},
   "outputs": [],
   "source": [
    "SIMULATION_DAYS = 7\n",
    "fig, ax = plt.subplots(nrows=2, sharex=True, figsize = (15,10))\n",
    "\n",
    "ax[0].plot(batteryState.time, batteryState.value, '--bo', label='Estado de la batería')\n",
    "\n",
    "for day in range(SIMULATION_DAYS-1):\n",
    "    ax[0].axvline(x=24*60*(day+1), color='black', linewidth=1)\n",
    "    ax[1].axvline(x=24*60*(day+1), color='black', linewidth=1)\n",
    "\n",
    "ax[0].set_xlim(left=0)\n",
    "ax[0].xaxis.set_major_formatter(ticker.FuncFormatter(format_date))\n",
    "ax[0].set_position(matplotlib.transforms.Bbox.from_bounds(0,0,1,.32))\n",
    "ax[0].set_xticks(np.arange(daysToHours(1),daysToHours(SIMULATION_DAYS), daysToHours(1)))\n",
    "\n",
    "ax[0].legend()\n",
    "\n",
    "import matplotlib\n",
    "# set the position of ax2 so that it is short (y2=0.32) but otherwise the same size as ax\n",
    "ax[1].set_position(matplotlib.transforms.Bbox.from_bounds(0,-.101,1,.10))\n",
    "ax[1].fill_between(chargeChanges.time, chargeChanges.charge, color='r', label='Carga')\n",
    "ax[1].spines['top'].set_visible(False)\n",
    "ax[1].yaxis.set_visible(False)\n",
    "ax[1].set_ylim(top=600)\n",
    "\n",
    "\n",
    "# plt.tight_layout()\n",
    "plt.ion()\n",
    "plt.show()"
   ]
  },
  {
   "cell_type": "markdown",
   "metadata": {},
   "source": [
    "### Analizing enery sold to the grid"
   ]
  },
  {
   "cell_type": "code",
   "execution_count": null,
   "metadata": {},
   "outputs": [],
   "source": [
    "fig, ax = plt.subplots(figsize = (15,10))\n",
    "\n",
    "ax.bar(gridSellData.time, gridSellData.value)\n",
    "\n",
    "ax.set_xlim(left=0)\n",
    "ax.xaxis.set_major_formatter(ticker.FuncFormatter(format_date))\n",
    "ax.set_xticks(np.arange(daysToHours(1),daysToHours(SIMULATION_DAYS), daysToHours(1)))\n",
    "\n",
    "plt.show()"
   ]
  }
 ],
 "metadata": {
  "kernelspec": {
   "display_name": "Python 3",
   "language": "python",
   "name": "python3"
  },
  "language_info": {
   "codemirror_mode": {
    "name": "ipython",
    "version": 3
   },
   "file_extension": ".py",
   "mimetype": "text/x-python",
   "name": "python",
   "nbconvert_exporter": "python",
   "pygments_lexer": "ipython3",
   "version": "3.7.0"
  }
 },
 "nbformat": 4,
 "nbformat_minor": 2
}
