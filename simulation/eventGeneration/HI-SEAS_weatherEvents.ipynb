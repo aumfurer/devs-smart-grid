{
 "cells": [
  {
   "cell_type": "code",
   "execution_count": 1,
   "metadata": {},
   "outputs": [],
   "source": [
    "import pandas as pd\n",
    "\n",
    "from datetime import datetime, timedelta\n",
    "from dateutil import tz\n",
    "\n",
    "# if you encounter a \"year is out of range\" error the timestamp\n",
    "# may be in milliseconds, try `ts /= 1000` in that case\n",
    "# print(datetime.utcfromtimestamp(ts).strftime('%Y-%m-%d %H:%M:%S'))"
   ]
  },
  {
   "cell_type": "markdown",
   "metadata": {},
   "source": [
    "## Weather data"
   ]
  },
  {
   "cell_type": "markdown",
   "metadata": {},
   "source": [
    "Loading **HI-SEAS** weather data dataframe. Recorded between Mission IV and V. More info at https://www.kaggle.com/dronio/SolarEnergy/version/1."
   ]
  },
  {
   "cell_type": "code",
   "execution_count": 2,
   "metadata": {},
   "outputs": [
    {
     "data": {
      "text/plain": [
       "Index(['UNIXTime', 'Data', 'Time', 'Radiation', 'Temperature', 'Pressure',\n",
       "       'Humidity', 'WindDirection(Degrees)', 'Speed', 'TimeSunRise',\n",
       "       'TimeSunSet'],\n",
       "      dtype='object')"
      ]
     },
     "execution_count": 2,
     "metadata": {},
     "output_type": "execute_result"
    }
   ],
   "source": [
    "weatherData = pd.read_csv('SolarPrediction.csv')\n",
    "\n",
    "weatherData.columns"
   ]
  },
  {
   "cell_type": "markdown",
   "metadata": {},
   "source": [
    "Cleaning time measures, from a UNIX timestamp, to a datetime object.\n",
    "\n",
    "Converted to Hawaii timezone, and then manually adjusted by substracting 3 hours."
   ]
  },
  {
   "cell_type": "markdown",
   "metadata": {},
   "source": [
    "Solar radiation is measured in $\\frac{Watts}{m^2}$. On the other hand, wind speed is in $\\frac{miles}{hour}$, so it will converted to $\\frac{km}{hour}$."
   ]
  },
  {
   "cell_type": "code",
   "execution_count": 3,
   "metadata": {},
   "outputs": [],
   "source": [
    "HawaiiZone = tz.gettz('US/Hawaii')\n",
    "weatherData.loc[:, 'datetime'] = weatherData.UNIXTime.map(lambda unixTime: datetime.utcfromtimestamp(unixTime).astimezone(HawaiiZone) - timedelta(hours=3))\n",
    "# Sorting dataframe by datetime\n",
    "weatherData.sort_values('datetime')\n",
    "\n",
    "# Converting wind speed from miles/hour to km/hour.\n",
    "weatherData.loc[:, 'windSpeed'] = weatherData.Speed.map(lambda aSpeedInMiles : 1.60934 * aSpeedInMiles)\n",
    "\n",
    "# Keeping just selected columns\n",
    "selectedColumns = ['datetime', 'windSpeed', 'Radiation', 'TimeSunRise', 'TimeSunSet']\n",
    "weatherData = weatherData[selectedColumns]"
   ]
  },
  {
   "cell_type": "code",
   "execution_count": 4,
   "metadata": {},
   "outputs": [
    {
     "data": {
      "text/html": [
       "<div>\n",
       "<style scoped>\n",
       "    .dataframe tbody tr th:only-of-type {\n",
       "        vertical-align: middle;\n",
       "    }\n",
       "\n",
       "    .dataframe tbody tr th {\n",
       "        vertical-align: top;\n",
       "    }\n",
       "\n",
       "    .dataframe thead th {\n",
       "        text-align: right;\n",
       "    }\n",
       "</style>\n",
       "<table border=\"1\" class=\"dataframe\">\n",
       "  <thead>\n",
       "    <tr style=\"text-align: right;\">\n",
       "      <th></th>\n",
       "      <th>datetime</th>\n",
       "      <th>windSpeed</th>\n",
       "      <th>Radiation</th>\n",
       "      <th>TimeSunRise</th>\n",
       "      <th>TimeSunSet</th>\n",
       "    </tr>\n",
       "  </thead>\n",
       "  <tbody>\n",
       "    <tr>\n",
       "      <th>0</th>\n",
       "      <td>2016-09-29 23:55:26-10:00</td>\n",
       "      <td>9.044491</td>\n",
       "      <td>1.21</td>\n",
       "      <td>06:13:00</td>\n",
       "      <td>18:13:00</td>\n",
       "    </tr>\n",
       "    <tr>\n",
       "      <th>1</th>\n",
       "      <td>2016-09-29 23:50:23-10:00</td>\n",
       "      <td>5.423476</td>\n",
       "      <td>1.21</td>\n",
       "      <td>06:13:00</td>\n",
       "      <td>18:13:00</td>\n",
       "    </tr>\n",
       "    <tr>\n",
       "      <th>2</th>\n",
       "      <td>2016-09-29 23:45:26-10:00</td>\n",
       "      <td>5.423476</td>\n",
       "      <td>1.23</td>\n",
       "      <td>06:13:00</td>\n",
       "      <td>18:13:00</td>\n",
       "    </tr>\n",
       "    <tr>\n",
       "      <th>3</th>\n",
       "      <td>2016-09-29 23:40:21-10:00</td>\n",
       "      <td>5.423476</td>\n",
       "      <td>1.21</td>\n",
       "      <td>06:13:00</td>\n",
       "      <td>18:13:00</td>\n",
       "    </tr>\n",
       "    <tr>\n",
       "      <th>4</th>\n",
       "      <td>2016-09-29 23:35:24-10:00</td>\n",
       "      <td>9.044491</td>\n",
       "      <td>1.17</td>\n",
       "      <td>06:13:00</td>\n",
       "      <td>18:13:00</td>\n",
       "    </tr>\n",
       "  </tbody>\n",
       "</table>\n",
       "</div>"
      ],
      "text/plain": [
       "                   datetime  windSpeed  Radiation TimeSunRise TimeSunSet\n",
       "0 2016-09-29 23:55:26-10:00   9.044491       1.21    06:13:00   18:13:00\n",
       "1 2016-09-29 23:50:23-10:00   5.423476       1.21    06:13:00   18:13:00\n",
       "2 2016-09-29 23:45:26-10:00   5.423476       1.23    06:13:00   18:13:00\n",
       "3 2016-09-29 23:40:21-10:00   5.423476       1.21    06:13:00   18:13:00\n",
       "4 2016-09-29 23:35:24-10:00   9.044491       1.17    06:13:00   18:13:00"
      ]
     },
     "execution_count": 4,
     "metadata": {},
     "output_type": "execute_result"
    }
   ],
   "source": [
    "weatherData.head()"
   ]
  },
  {
   "cell_type": "code",
   "execution_count": 5,
   "metadata": {},
   "outputs": [
    {
     "name": "stdout",
     "output_type": "stream",
     "text": [
      "datetime values go from \n",
      "2016-09-01 00:00:08-10:00 to \n",
      "2016-12-31 23:55:01-10:00.\n"
     ]
    }
   ],
   "source": [
    "print(f'datetime values go from \\n{weatherData.datetime.min()} to \\n{weatherData.datetime.max()}.')"
   ]
  },
  {
   "cell_type": "code",
   "execution_count": 6,
   "metadata": {},
   "outputs": [],
   "source": [
    "def isOctober(aDateTime):\n",
    "    return aDateTime.month == 10\n",
    "octoberData = weatherData[weatherData.datetime.map(isOctober)]"
   ]
  },
  {
   "cell_type": "code",
   "execution_count": 7,
   "metadata": {},
   "outputs": [],
   "source": [
    "minimumDate = octoberData.datetime.min()\n",
    "octoberData.loc[:, 'normalizeDateTime'] = octoberData.datetime.map(lambda aDate: aDate - minimumDate)\n",
    "octoberData = octoberData.sort_values('normalizeDateTime')"
   ]
  },
  {
   "cell_type": "code",
   "execution_count": 8,
   "metadata": {},
   "outputs": [
    {
     "data": {
      "text/plain": [
       "4.3341666666666665"
      ]
     },
     "execution_count": 8,
     "metadata": {},
     "output_type": "execute_result"
    }
   ],
   "source": [
    "15603/3600"
   ]
  },
  {
   "cell_type": "code",
   "execution_count": 9,
   "metadata": {},
   "outputs": [],
   "source": [
    "import math\n",
    "\n",
    "\"\"\"\n",
    "    Converts a timedelta object to its DEVS time representation\n",
    "\"\"\"\n",
    "def formatDateToDEVSEvent(aTimedelta):\n",
    "    seconds = aTimedelta.seconds\n",
    "    hours = math.floor(seconds/3600) + aTimedelta.days * 24\n",
    "    r = seconds%3600\n",
    "    minutes = math.floor(r/60)\n",
    "    r = r % 60\n",
    "    return '%d:%02d:%02d:%03d' % (hours,minutes,r,0)"
   ]
  },
  {
   "cell_type": "code",
   "execution_count": 10,
   "metadata": {},
   "outputs": [],
   "source": [
    "octoberData.loc[:, 'devsDateTime'] = octoberData.normalizeDateTime.map(formatDateToDEVSEvent)"
   ]
  },
  {
   "cell_type": "code",
   "execution_count": 11,
   "metadata": {},
   "outputs": [],
   "source": [
    "# ports names\n",
    "WIND_SPEED_PORT = 'wind_speed'\n",
    "RADIATION_PORT = 'radiation'\n",
    "POWER_CONSUMPTION_PORT = 'power_consumption'"
   ]
  },
  {
   "cell_type": "code",
   "execution_count": 12,
   "metadata": {},
   "outputs": [
    {
     "data": {
      "text/plain": [
       "Index(['datetime', 'windSpeed', 'Radiation', 'TimeSunRise', 'TimeSunSet',\n",
       "       'normalizeDateTime', 'devsDateTime'],\n",
       "      dtype='object')"
      ]
     },
     "execution_count": 12,
     "metadata": {},
     "output_type": "execute_result"
    }
   ],
   "source": [
    "octoberData.columns"
   ]
  },
  {
   "cell_type": "code",
   "execution_count": 13,
   "metadata": {},
   "outputs": [
    {
     "name": "stdout",
     "output_type": "stream",
     "text": [
      "Radiation\t\tmin: 1.13\tmax: 1451.41\n",
      "Wind Speed\t\tmin: 0.0\tmax: 30.7705808\n"
     ]
    }
   ],
   "source": [
    "# TODO: Clip radiation data when sun is down\n",
    "# Minimum and maximum values in wind speed and radiation data\n",
    "print(f'Radiation\\t\\tmin: {octoberData.Radiation.min()}\\tmax: {octoberData.Radiation.max()}')\n",
    "print(f'Wind Speed\\t\\tmin: {octoberData.windSpeed.min()}\\tmax: {octoberData.windSpeed.max()}')"
   ]
  },
  {
   "cell_type": "code",
   "execution_count": 20,
   "metadata": {},
   "outputs": [
    {
     "data": {
      "text/plain": [
       "count    32686.000000\n",
       "mean       207.124697\n",
       "std        315.916387\n",
       "min          1.110000\n",
       "25%          1.230000\n",
       "50%          2.660000\n",
       "75%        354.235000\n",
       "max       1601.260000\n",
       "Name: Radiation, dtype: float64"
      ]
     },
     "execution_count": 20,
     "metadata": {},
     "output_type": "execute_result"
    }
   ],
   "source": [
    "weatherData.Radiation.describe()"
   ]
  },
  {
   "cell_type": "code",
   "execution_count": 14,
   "metadata": {},
   "outputs": [],
   "source": [
    "def writeEvent(file, devsTime, port, value):\n",
    "    file.write(f'{devsTime} {port} {value}\\n')\n",
    "\n",
    "with open('octoberData.ev', 'w+') as eventsFile:\n",
    "    # adding constant power consumtpion\n",
    "    writeEvent(eventsFile, '00:00:00:000', POWER_CONSUMPTION_PORT, 100)    \n",
    "    for row in octoberData.iterrows():\n",
    "        row = row[1]\n",
    "        # radiation data\n",
    "        writeEvent(eventsFile, row.devsDateTime, RADIATION_PORT, row.Radiation)\n",
    "        # windspeed\n",
    "        writeEvent(eventsFile, row.devsDateTime, WIND_SPEED_PORT, row.windSpeed)"
   ]
  },
  {
   "cell_type": "markdown",
   "metadata": {},
   "source": [
    "## Power consumption data"
   ]
  },
  {
   "cell_type": "code",
   "execution_count": 15,
   "metadata": {},
   "outputs": [],
   "source": [
    "loadData = pd.read_csv('february2009Consumption.csv', sep=';')"
   ]
  },
  {
   "cell_type": "code",
   "execution_count": 16,
   "metadata": {},
   "outputs": [],
   "source": [
    "FORMAT_STRING = '%d/%m/%Y %H:%M:%S'\n",
    "def mergeDateTimeIntoString(row):\n",
    "    # Add zero padding to date and month\n",
    "    dateSplits = row['Date'].split('/')\n",
    "    date = \"%02d/%02d/%d\" % (int(dateSplits[0]),int(dateSplits[1]),int(dateSplits[2]))\n",
    "    \n",
    "    time = row['Time']\n",
    "    \n",
    "    # Format both in one string\n",
    "    formattedDateTime = f'{date} {time}'\n",
    "    \n",
    "    return datetime.strptime(formattedDateTime, FORMAT_STRING)\n",
    "\n",
    "loadData.loc[:, 'datetime'] = loadData.apply(mergeDateTimeIntoString, axis=1)\n",
    "loadData.sort_values('datetime')\n",
    "\n",
    "minimumDate = loadData.datetime.min()\n",
    "\n",
    "loadData.loc[:, 'devsDateTime'] = loadData.datetime.apply(lambda aDateTime: formatDateToDEVSEvent(aDateTime - minimumDate))"
   ]
  },
  {
   "cell_type": "code",
   "execution_count": 17,
   "metadata": {},
   "outputs": [],
   "source": [
    "# Cleaning unknown data\n",
    "loadData = loadData[loadData.Global_active_power != '?']\n",
    "\n",
    "# Convert string kWatt value to float Watt\n",
    "loadData.loc[:, 'Global_active_power'] = loadData.Global_active_power.map(lambda aString: float(aString)*1000)"
   ]
  },
  {
   "cell_type": "code",
   "execution_count": 18,
   "metadata": {},
   "outputs": [],
   "source": [
    "loadData = loadData[['devsDateTime', 'Global_active_power']]"
   ]
  },
  {
   "cell_type": "markdown",
   "metadata": {},
   "source": [
    "## Merge both power consumption and weather dataframes"
   ]
  },
  {
   "cell_type": "code",
   "execution_count": 19,
   "metadata": {},
   "outputs": [],
   "source": [
    "with open('mergedData.ev', 'w+') as eventsFile:\n",
    "    # Write weather data to events file\n",
    "    for row in octoberData.iterrows():\n",
    "        row = row[1]\n",
    "        # radiation data\n",
    "        writeEvent(eventsFile, row.devsDateTime, RADIATION_PORT, row.Radiation)\n",
    "        # windspeed\n",
    "        writeEvent(eventsFile, row.devsDateTime, WIND_SPEED_PORT, row.windSpeed)\n",
    "    # Write power consumption data to events file\n",
    "    for row in loadData.iterrows():\n",
    "        row = row[1]\n",
    "        # load data\n",
    "        writeEvent(eventsFile, row.devsDateTime, POWER_CONSUMPTION_PORT, row['Global_active_power'])"
   ]
  }
 ],
 "metadata": {
  "kernelspec": {
   "display_name": "Python 3",
   "language": "python",
   "name": "python3"
  },
  "language_info": {
   "codemirror_mode": {
    "name": "ipython",
    "version": 3
   },
   "file_extension": ".py",
   "mimetype": "text/x-python",
   "name": "python",
   "nbconvert_exporter": "python",
   "pygments_lexer": "ipython3",
   "version": "3.7.0"
  }
 },
 "nbformat": 4,
 "nbformat_minor": 2
}
